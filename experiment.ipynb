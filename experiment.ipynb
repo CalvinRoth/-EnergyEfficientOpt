{
 "cells": [
  {
   "cell_type": "markdown",
   "metadata": {},
   "source": [
    "## Introduction \n",
    "\n",
    "The purpose of this notebook is to examine the energy requirements of optimization algorithms. We pre register the hypothesis that cache behavior is a predictor of energy intensity. "
   ]
  },
  {
   "cell_type": "code",
   "execution_count": 1,
   "metadata": {},
   "outputs": [
    {
     "data": {
      "text/plain": [
       "perf_stat_l1 (generic function with 2 methods)"
      ]
     },
     "metadata": {},
     "output_type": "display_data"
    }
   ],
   "source": [
    "using JuMP\n",
    "using HiGHS\n",
    "using Gurobi\n",
    "using MosekTools\n",
    "using Random\n",
    "\n",
    "Random.seed!(8251)\n",
    "m  = 8000\n",
    "n =  8000\n",
    "A = rand(m,n)\n",
    "b = rand(m)\n",
    "c = rand(n)\n",
    "\n",
    "\n",
    "function perf(f, args)\n",
    "    pid = getpid()\n",
    "    cmd = `perf $args --pid=$pid`\n",
    "    proc = run(pipeline(cmd, stdout=stdout, stderr=stderr); wait=false)\n",
    "    try\n",
    "        return f()\n",
    "    finally\n",
    "        flush(stdout)\n",
    "        flush(stderr)\n",
    "        kill(proc, Base.SIGINT)\n",
    "        wait(proc)\n",
    "    end\n",
    "end\n",
    "\n",
    "function perf_stat_l1(f, args = ``) \n",
    "     perf(f, `stat -e L1-dcache-load-misses,L1-dcache-loads,L1-dcache-stores,L1-icache-load-misses $args`)\n",
    "end \n",
    "\n",
    "\n"
   ]
  },
  {
   "cell_type": "markdown",
   "metadata": {},
   "source": [
    "## Simplex Method"
   ]
  },
  {
   "cell_type": "code",
   "execution_count": 2,
   "metadata": {},
   "outputs": [
    {
     "data": {
      "text/plain": [
       "simplex_serial (generic function with 1 method)"
      ]
     },
     "metadata": {},
     "output_type": "display_data"
    }
   ],
   "source": [
    "\n",
    "function simplex_setup()\n",
    "    model1 = Model(HiGHS.Optimizer)\n",
    "    set_optimizer_attribute(model1, \"presolve\", \"off\")\n",
    "    set_optimizer_attribute(model1, \"parallel\", \"off\")\n",
    "    set_optimizer_attribute(model1, \"solver\", \"simplex\")\n",
    "    @variable(model1, x[i=1:n] >= 0)\n",
    "\n",
    "    @constraint(model1, A*x .<= b)\n",
    "\n",
    "    @objective(model1, Max, c' * x)\n",
    "    return model1\n",
    "end \n",
    "\n",
    "function simplex_serial()    \n",
    "    optimize!(model1)\n",
    "end "
   ]
  },
  {
   "cell_type": "code",
   "execution_count": 11,
   "metadata": {},
   "outputs": [
    {
     "data": {
      "text/plain": [
       "A JuMP Model\n",
       "Maximization problem with:\n",
       "Variables: 8000\n",
       "Objective function type: AffExpr\n",
       "`AffExpr`-in-`MathOptInterface.LessThan{Float64}`: 8000 constraints\n",
       "`VariableRef`-in-`MathOptInterface.GreaterThan{Float64}`: 8000 constraints\n",
       "Model mode: AUTOMATIC\n",
       "CachingOptimizer state: EMPTY_OPTIMIZER\n",
       "Solver name: HiGHS\n",
       "Names registered in the model: x"
      ]
     },
     "metadata": {},
     "output_type": "display_data"
    }
   ],
   "source": [
    "model1 = simplex_setup()"
   ]
  },
  {
   "cell_type": "code",
   "execution_count": 12,
   "metadata": {},
   "outputs": [
    {
     "name": "stdout",
     "output_type": "stream",
     "text": [
      "Running HiGHS 1.3.0 [date: 1970-01-01, git hash: e5004072b-dirty]\n",
      "Copyright (c) 2022 ERGO-Code under MIT licence terms\n",
      "Solving LP without presolve or with basis\n",
      "Using EKK dual simplex solver - serial\n",
      "  Iteration        Objective     Infeasibilities num(sum)\n",
      "          0    -1.6377626375e+06 Ph1: 8000(1.32117e+09); Du: 8000(1.63776e+06) 3s\n",
      "        666     4.0696282145e-02 Pr: 1555(40.9352) 8s\n",
      "       1241     8.0250057364e-03 Pr: 129(0.18045) 14s\n",
      "       1428     9.4944409939e-04 Pr: 0(0) 15s\n",
      "Model   status      : Optimal\n",
      "Simplex   iterations: 1428\n",
      "Objective value     :  9.4944409939e-04\n",
      "HiGHS run time      :         15.99\n"
     ]
    },
    {
     "name": "stderr",
     "output_type": "stream",
     "text": [
      "\n",
      " Performance counter stats for process id '4304':\n",
      "\n",
      "     4,979,663,646      L1-dcache-load-misses     #    7.09% of all L1-dcache accesses\n",
      "    70,263,545,294      L1-dcache-loads                                             \n",
      "   <not supported>      L1-dcache-stores                                            \n",
      "         1,523,234      L1-icache-load-misses                                       \n",
      "\n",
      "      19.369738857 seconds time elapsed\n",
      "\n"
     ]
    }
   ],
   "source": [
    "perf_stat_l1(simplex_serial)"
   ]
  },
  {
   "cell_type": "markdown",
   "metadata": {},
   "source": [
    "![alt text](images/Serial_Simplex.png)"
   ]
  },
  {
   "cell_type": "markdown",
   "metadata": {},
   "source": [
    "## Simplex Parallel"
   ]
  },
  {
   "cell_type": "code",
   "execution_count": 5,
   "metadata": {},
   "outputs": [
    {
     "data": {
      "text/plain": [
       "simplex_parallel (generic function with 1 method)"
      ]
     },
     "metadata": {},
     "output_type": "display_data"
    }
   ],
   "source": [
    "\n",
    "function simplex_par_setup()\n",
    "    HiGHS.Highs_resetGlobalScheduler(true)\n",
    "    model2 = Model(HiGHS.Optimizer)\n",
    "    set_optimizer_attribute(model2, \"presolve\", \"off\")\n",
    "    set_optimizer_attribute(model2, \"parallel\", \"on\")\n",
    "    set_optimizer_attribute(model2, \"solver\", \"simplex\")\n",
    "    @variable(model2, x[i=1:n] >= 0)\n",
    "\n",
    "    @constraint(model2, A*x .<= b)\n",
    "\n",
    "    @objective(model2, Max, c' * x)\n",
    "    return model2\n",
    "end \n",
    "\n",
    "\n",
    "\n",
    "function simplex_parallel()\n",
    "\n",
    "    optimize!(model2)\n",
    "\n",
    "end\n"
   ]
  },
  {
   "cell_type": "code",
   "execution_count": 6,
   "metadata": {},
   "outputs": [
    {
     "data": {
      "text/plain": [
       "A JuMP Model\n",
       "Maximization problem with:\n",
       "Variables: 8000\n",
       "Objective function type: AffExpr\n",
       "`AffExpr`-in-`MathOptInterface.LessThan{Float64}`: 8000 constraints\n",
       "`VariableRef`-in-`MathOptInterface.GreaterThan{Float64}`: 8000 constraints\n",
       "Model mode: AUTOMATIC\n",
       "CachingOptimizer state: EMPTY_OPTIMIZER\n",
       "Solver name: HiGHS\n",
       "Names registered in the model: x"
      ]
     },
     "metadata": {},
     "output_type": "display_data"
    }
   ],
   "source": [
    "model2 = simplex_par_setup()"
   ]
  },
  {
   "cell_type": "code",
   "execution_count": 7,
   "metadata": {},
   "outputs": [],
   "source": [
    "perf_stat_l1(simplex_parallel)"
   ]
  },
  {
   "cell_type": "markdown",
   "metadata": {},
   "source": [
    "## IPM Serial"
   ]
  },
  {
   "cell_type": "code",
   "execution_count": 3,
   "metadata": {},
   "outputs": [
    {
     "data": {
      "text/plain": [
       "ipm (generic function with 1 method)"
      ]
     },
     "metadata": {},
     "output_type": "display_data"
    }
   ],
   "source": [
    "\n",
    "\n",
    "function ipm_setup()\n",
    "    model3 = Model(HiGHS.Optimizer)\n",
    "\n",
    "    set_optimizer_attribute(model3, \"presolve\", \"off\")\n",
    "    set_optimizer_attribute(model3, \"parallel\", \"off\")\n",
    "    set_optimizer_attribute(model3, \"solver\", \"ipm\")\n",
    "\n",
    "    @variable(model3, x[i=1:n] >= 0)\n",
    "\n",
    "    @constraint(model3, A*x .<= b)\n",
    "\n",
    "    @objective(model3, Max, c' * x)\n",
    "    return model3\n",
    "end\n",
    "\n",
    "function ipm()\n",
    "    optimize!(model3)\n",
    "end\n"
   ]
  },
  {
   "cell_type": "code",
   "execution_count": 4,
   "metadata": {},
   "outputs": [
    {
     "data": {
      "text/plain": [
       "A JuMP Model\n",
       "Maximization problem with:\n",
       "Variables: 8000\n",
       "Objective function type: AffExpr\n",
       "`AffExpr`-in-`MathOptInterface.LessThan{Float64}`: 8000 constraints\n",
       "`VariableRef`-in-`MathOptInterface.GreaterThan{Float64}`: 8000 constraints\n",
       "Model mode: AUTOMATIC\n",
       "CachingOptimizer state: EMPTY_OPTIMIZER\n",
       "Solver name: HiGHS\n",
       "Names registered in the model: x"
      ]
     },
     "metadata": {},
     "output_type": "display_data"
    }
   ],
   "source": [
    "model3 = ipm_setup()"
   ]
  },
  {
   "cell_type": "code",
   "execution_count": 5,
   "metadata": {},
   "outputs": [
    {
     "name": "stdout",
     "output_type": "stream",
     "text": [
      "Running HiGHS 1.3.0 [date: 1970-01-01, git hash: e5004072b-dirty]\n",
      "Copyright (c) 2022 ERGO-Code under MIT licence terms\n",
      "Solving LP without presolve or with basis\n",
      "IPX model has 8000 rows, 8000 columns and 64000000 nonzeros\n",
      "Input\n",
      "    Number of variables:                                8000\n",
      "    Number of free variables:                           0\n",
      "    Number of constraints:                              8000\n",
      "    Number of equality constraints:                     0\n",
      "    Number of matrix entries:                           64000000\n",
      "    Matrix range:                                       [2e-08, 1e+00]\n",
      "    RHS range:                                          [7e-05, 1e+00]\n",
      "    Objective range:                                    [2e-04, 1e+00]\n",
      "    Bounds range:                                       [0e+00, 0e+00]\n",
      "Preprocessing\n",
      "    Dualized model:                                     no\n",
      "    Number of dense columns:                            0\n",
      "    Range of scaling factors:                           [1.00e+00, 1.00e+00]\n",
      "IPX version 1.0\n",
      "Interior Point Solve\n",
      " Iter     P.res    D.res            P.obj           D.obj        mu     Time\n",
      "   0   1.95e+00 1.89e+00  -1.97368422e+00 -1.75864597e+00  3.68e+00      10s\n",
      "   1   4.45e-02 1.39e-01  -3.07576408e-01 -2.06460127e+00  1.78e-01      11s\n",
      "   2   1.02e-02 4.14e-02  -2.80725411e+00  8.28566368e+00  5.01e-02      13s\n",
      "   3   2.54e-03 3.74e-03   1.00348468e+00 -1.50447493e+00  6.76e-03      14s\n",
      "   4   2.94e-04 3.74e-09   9.28877030e-01 -2.80348543e+00  6.57e-04      15s\n",
      "   5   2.47e-05 4.17e-14   8.19164156e-03 -1.30410254e+00  1.02e-04      15s\n",
      "   6   1.31e-05 2.93e-14   1.90804994e-02 -3.68398065e-01  3.54e-05      16s\n",
      "   7   1.31e-06 3.15e-14  -2.72489862e-04 -1.10644171e-02  1.61e-06      17s\n",
      "   8   4.66e-07 2.89e-14  -4.28002474e-04 -6.03392630e-03  7.06e-07      19s\n",
      "   9   2.83e-07 2.93e-14  -1.33480149e-03 -4.96394568e-03  4.80e-07      20s\n",
      "  10   1.58e-07 3.20e-14  -1.30496233e-03 -4.46818861e-03  3.53e-07      23s\n",
      "  11   1.29e-07 4.88e-14  -1.21531832e-03 -3.53445884e-03  2.99e-07      29s\n",
      "  12   1.07e-07 4.53e-14  -1.09573700e-03 -3.28823457e-03  2.73e-07      33s\n",
      "  13   4.01e-08 5.06e-14  -9.26967094e-04 -2.40020502e-03  1.46e-07      36s\n",
      "  14   1.77e-08 5.51e-14  -8.50631177e-04 -1.75982047e-03  8.23e-08      40s\n",
      "  15   5.07e-09 6.93e-14  -7.85367519e-04 -1.43034637e-03  4.79e-08      43s\n",
      "  16   3.39e-09 6.04e-14  -8.04780606e-04 -1.15233914e-03  2.70e-08      46s\n",
      "  17   1.97e-09 6.75e-14  -8.59009176e-04 -1.06134168e-03  1.57e-08      54s\n",
      "  18   1.16e-09 5.95e-14  -8.42228040e-04 -1.05101726e-03  1.47e-08      60s\n",
      "  19   1.14e-09 5.77e-14  -8.43896881e-04 -1.03635575e-03  1.37e-08      65s\n",
      "  20   7.51e-10 7.46e-14  -8.81999477e-04 -9.68774890e-04  6.52e-09      70s\n",
      "  21   6.06e-11 6.84e-14  -9.43423845e-04 -9.54830220e-04  7.97e-10      76s\n",
      "  22   1.96e-11 6.75e-14  -9.47238181e-04 -9.50490281e-04  2.30e-10      82s\n",
      "  23   7.09e-13 7.37e-14  -9.49360929e-04 -9.49449382e-04  6.49e-12      88s\n",
      "  24*  1.33e-14 8.44e-14  -9.49443704e-04 -9.49444116e-04  3.02e-14      95s\n",
      " Constructing starting basis...\n",
      "Crossover\n",
      "    Primal residual before push phase:                  1.07e-10\n",
      "    Dual residual before push phase:                    3.91e-10\n",
      "    Number of dual pushes required:                     0\n",
      "    Number of primal pushes required:                   0\n",
      "Summary\n",
      "    Runtime:                                            95.30s\n",
      "    Status interior point solve:                        optimal\n",
      "    Status crossover:                                   optimal\n",
      "    objective value:                                    -9.49443704e-04\n",
      "    interior solution primal residual (abs/rel):        1.40e-14 / 7.01e-15\n",
      "    interior solution dual residual (abs/rel):          8.44e-14 / 4.22e-14\n",
      "    interior solution objective gap (abs/rel):          4.13e-10 / 4.12e-10\n",
      "    basic solution primal infeasibility:                0.00e+00\n",
      "    basic solution dual infeasibility:                  0.00e+00\n",
      "Ipx: IPM       optimal\n",
      "Ipx: Crossover optimal\n",
      "Model   status      : Optimal\n",
      "IPM       iterations: 24\n",
      "Objective value     :  9.4944409939e-04\n",
      "HiGHS run time      :         98.01\n"
     ]
    },
    {
     "name": "stderr",
     "output_type": "stream",
     "text": [
      "\n",
      " Performance counter stats for process id '7342':\n",
      "\n",
      "    53,443,655,466      L1-dcache-load-misses     #    8.77% of all L1-dcache accesses\n",
      "   609,324,336,959      L1-dcache-loads                                             \n",
      "   <not supported>      L1-dcache-stores                                            \n",
      "        19,501,983      L1-icache-load-misses                                       \n",
      "\n",
      "     103.218779727 seconds time elapsed\n",
      "\n"
     ]
    }
   ],
   "source": [
    "perf_stat_l1(ipm)"
   ]
  },
  {
   "cell_type": "markdown",
   "metadata": {},
   "source": [
    "![alt text](images/ipm_seria.png)"
   ]
  },
  {
   "cell_type": "markdown",
   "metadata": {},
   "source": [
    "## IPM Parallel"
   ]
  },
  {
   "cell_type": "code",
   "execution_count": null,
   "metadata": {},
   "outputs": [],
   "source": [
    "function ipm_para()\n",
    "    model3 = Model(HiGHS.Optimizer)\n",
    "\n",
    "    set_optimizer_attribute(model3, \"presolve\", \"off\")\n",
    "    set_optimizer_attribute(model3, \"parallel\", \"on\")\n",
    "    set_optimizer_attribute(model3, \"solver\", \"ipm\")\n",
    "\n",
    "    @variable(model3, x[i=1:n] >= 0)\n",
    "\n",
    "    @constraint(model3, A*x .<= b)\n",
    "\n",
    "    @objective(model3, Max, c' * x)\n",
    "    optimize!(model3)\n",
    "\n",
    "end"
   ]
  },
  {
   "cell_type": "code",
   "execution_count": null,
   "metadata": {},
   "outputs": [],
   "source": [
    "ipm_para()"
   ]
  },
  {
   "cell_type": "code",
   "execution_count": null,
   "metadata": {},
   "outputs": [],
   "source": [
    "perf_stat_l1(ipm)"
   ]
  },
  {
   "cell_type": "code",
   "execution_count": null,
   "metadata": {},
   "outputs": [],
   "source": [
    "perf_stat_l1(simplex_serial)"
   ]
  },
  {
   "cell_type": "markdown",
   "metadata": {},
   "source": []
  },
  {
   "cell_type": "code",
   "execution_count": null,
   "metadata": {},
   "outputs": [],
   "source": [
    "simplex_parallel()"
   ]
  },
  {
   "cell_type": "code",
   "execution_count": null,
   "metadata": {},
   "outputs": [],
   "source": [
    "simplex_free(A,b,c)"
   ]
  },
  {
   "cell_type": "code",
   "execution_count": null,
   "metadata": {},
   "outputs": [],
   "source": [
    "using Profile\n",
    "using PProf\n",
    "#using ProfileVega \n",
    "\n",
    "Profile.clear()\n",
    "\n",
    "@profview   simplex100(A, b, c)\n",
    "\n",
    "ProfileVega.view()"
   ]
  },
  {
   "cell_type": "code",
   "execution_count": null,
   "metadata": {},
   "outputs": [],
   "source": [
    "using Profile\n",
    "using PProf"
   ]
  },
  {
   "cell_type": "code",
   "execution_count": 1,
   "metadata": {},
   "outputs": [],
   "source": [
    "using MosekTools"
   ]
  },
  {
   "cell_type": "code",
   "execution_count": 3,
   "metadata": {},
   "outputs": [
    {
     "data": {
      "text/plain": [
       "simplex_serial (generic function with 1 method)"
      ]
     },
     "metadata": {},
     "output_type": "display_data"
    }
   ],
   "source": [
    "\n",
    "function simplex_setup()\n",
    "    model1 = Model(Mosek.Optimizer)\n",
    "    set_optimizer_attribute(model1, \"MSK_IPAR_NUM_THREADS\", 1)\n",
    "    #set_optimizer_attribute(model1, \"presolve\", \"off\")\n",
    "    #set_optimizer_attribute(model1, \"parallel\", \"off\")\n",
    "    #set_optimizer_attribute(model1, \"solver\", \"simplex\")\n",
    "    @variable(model1, x[i=1:n] >= 0)\n",
    "\n",
    "    @constraint(model1, A*x .<= b)\n",
    "\n",
    "    @objective(model1, Max, c' * x)\n",
    "    return model1\n",
    "end \n",
    "\n",
    "function simplex_serial()    \n",
    "    # model1 = Model(HiGHS.Optimizer)\n",
    "    # set_optimizer_attribute(model1, \"presolve\", \"off\")\n",
    "    # set_optimizer_attribute(model1, \"parallel\", \"off\")\n",
    "    # set_optimizer_attribute(model1, \"solver\", \"simplex\")\n",
    "    # @variable(model1, x[i=1:n] >= 0)\n",
    "\n",
    "    # @constraint(model1, A*x .<= b)\n",
    "\n",
    "    # @objective(model1, Max, c' * x)\n",
    "    optimize!(model1)\n",
    "end "
   ]
  },
  {
   "cell_type": "code",
   "execution_count": 4,
   "metadata": {},
   "outputs": [
    {
     "data": {
      "text/plain": [
       "A JuMP Model\n",
       "Maximization problem with:\n",
       "Variables: 8000\n",
       "Objective function type: AffExpr\n",
       "`AffExpr`-in-`MathOptInterface.LessThan{Float64}`: 8000 constraints\n",
       "`VariableRef`-in-`MathOptInterface.GreaterThan{Float64}`: 8000 constraints\n",
       "Model mode: AUTOMATIC\n",
       "CachingOptimizer state: EMPTY_OPTIMIZER\n",
       "Solver name: Mosek\n",
       "Names registered in the model: x"
      ]
     },
     "metadata": {},
     "output_type": "display_data"
    }
   ],
   "source": [
    "model1 = simplex_setup()"
   ]
  },
  {
   "cell_type": "code",
   "execution_count": 5,
   "metadata": {},
   "outputs": [
    {
     "name": "stdout",
     "output_type": "stream",
     "text": [
      "Problem\n",
      "  Name                   :                 \n",
      "  Objective sense        : maximize        \n",
      "  Type                   : LO (linear optimization problem)\n",
      "  Constraints            : 8000            \n",
      "  Affine conic cons.     : 0               \n",
      "  Disjunctive cons.      : 0               \n",
      "  Cones                  : 0               \n",
      "  Scalar variables       : 8000            \n",
      "  Matrix variables       : 0               \n",
      "  Integer variables      : 0               \n",
      "\n",
      "Optimizer started.\n",
      "Presolve started.\n"
     ]
    },
    {
     "name": "stdout",
     "output_type": "stream",
     "text": [
      "Linear dependency checker started.\n",
      "Linear dependency checker terminated.\n"
     ]
    },
    {
     "name": "stdout",
     "output_type": "stream",
     "text": [
      "Eliminator started.\n",
      "Freed constraints in eliminator : 0\n"
     ]
    },
    {
     "name": "stdout",
     "output_type": "stream",
     "text": [
      "Eliminator terminated.\n",
      "Eliminator - tries                  : 1                 time                   : 0.00            \n"
     ]
    },
    {
     "name": "stdout",
     "output_type": "stream",
     "text": [
      "Lin. dep.  - tries                  : 1                 time                   : 0.09            \n",
      "Lin. dep.  - number                 : 0               \n",
      "Presolve terminated. Time: 4.19    \n",
      "GP based matrix reordering started.\n"
     ]
    },
    {
     "name": "stdout",
     "output_type": "stream",
     "text": [
      "GP based matrix reordering terminated.\n",
      "Problem\n"
     ]
    },
    {
     "name": "stdout",
     "output_type": "stream",
     "text": [
      "  Name                   :                 \n",
      "  Objective sense        : maximize        \n",
      "  Type                   : LO (linear optimization problem)\n",
      "  Constraints            : 8000            \n",
      "  Affine conic cons.     : 0               \n",
      "  Disjunctive cons.      : 0               \n",
      "  Cones                  : 0               \n",
      "  Scalar variables       : 8000            \n",
      "  Matrix variables       : 0               \n",
      "  Integer variables      : 0               \n",
      "\n",
      "Optimizer  - threads                : 1               \n",
      "Optimizer  - solved problem         : the primal      \n",
      "Optimizer  - Constraints            : 4036\n",
      "Optimizer  - Cones                  : 0\n",
      "Optimizer  - Scalar variables       : 12036             conic                  : 0               \n",
      "Optimizer  - Semi-definite variables: 0                 scalarized             : 0               \n",
      "Factor     - setup time             : 0.73              dense det. time        : 0.00            \n",
      "Factor     - ML order time          : 0.08              GP order time          : 0.00            \n",
      "Factor     - nonzeros before factor : 8.15e+06          after factor           : 8.15e+06        \n",
      "Factor     - dense dim.             : 0                 flops                  : 1.52e+11        \n",
      "Factor     - GP saved nzs           : 0                 GP saved flops         : 1.30e+11        \n",
      "ITE PFEAS    DFEAS    GFEAS    PRSTATUS   POBJ              DOBJ              MU       TIME  \n",
      "0   4.2e+02  1.1e+00  4.1e+02  0.00e+00   4.119168928e+02   6.132402564e-01   1.3e-01  9.75  \n"
     ]
    },
    {
     "name": "stdout",
     "output_type": "stream",
     "text": [
      "1   7.9e+00  2.1e-02  7.8e+00  -8.78e-01  6.126914331e+01   2.501873542e+00   2.5e-03  12.34 \n",
      "2   3.7e+00  9.9e-03  3.6e+00  1.23e+01   2.646064145e+00   2.926827289e-01   1.2e-03  14.92 \n"
     ]
    },
    {
     "name": "stdout",
     "output_type": "stream",
     "text": [
      "3   2.0e+00  5.4e-03  2.0e+00  1.45e+00   1.330727516e+00   1.997049834e-01   6.5e-04  17.50 \n",
      "4   2.7e-01  7.1e-04  2.6e-01  1.13e+00   1.551044453e-01   5.585576289e-03   8.5e-05  20.16 \n"
     ]
    },
    {
     "name": "stdout",
     "output_type": "stream",
     "text": [
      "5   3.1e-02  8.2e-05  3.0e-02  1.08e+00   2.240370067e-02   6.032507683e-03   9.8e-06  22.80 \n",
      "6   1.9e-02  5.0e-05  1.8e-02  9.67e-01   1.494354886e-02   4.554450249e-03   5.9e-06  25.42 \n"
     ]
    },
    {
     "name": "stdout",
     "output_type": "stream",
     "text": [
      "7   1.5e-02  3.9e-05  1.4e-02  8.93e-01   1.263455982e-02   4.181613997e-03   4.7e-06  28.01 \n",
      "8   6.9e-03  1.8e-05  6.7e-03  8.72e-01   7.249448030e-03   3.046765032e-03   2.2e-06  30.68 \n"
     ]
    },
    {
     "name": "stdout",
     "output_type": "stream",
     "text": [
      "9   3.7e-03  9.8e-06  3.6e-03  8.43e-01   4.862772101e-03   2.440299935e-03   1.2e-06  33.31 \n",
      "10  2.2e-03  5.9e-06  2.2e-03  7.45e-01   3.722666992e-03   2.101377296e-03   7.1e-07  35.94 \n"
     ]
    },
    {
     "name": "stdout",
     "output_type": "stream",
     "text": [
      "11  1.7e-03  4.7e-06  1.7e-03  6.23e-01   3.371065309e-03   1.979839439e-03   5.6e-07  38.52 \n",
      "12  1.3e-03  3.6e-06  1.3e-03  6.22e-01   3.027408076e-03   1.863854625e-03   4.3e-07  41.18 \n"
     ]
    },
    {
     "name": "stdout",
     "output_type": "stream",
     "text": [
      "13  9.8e-04  2.6e-06  9.6e-04  5.72e-01   2.672741046e-03   1.725732473e-03   3.1e-07  43.77 \n",
      "14  7.1e-04  1.9e-06  6.9e-04  6.40e-01   2.319523605e-03   1.583849119e-03   2.3e-07  46.35 \n"
     ]
    },
    {
     "name": "stdout",
     "output_type": "stream",
     "text": [
      "15  4.5e-04  1.2e-06  4.4e-04  6.18e-01   1.964924029e-03   1.432027782e-03   1.4e-07  49.02 \n",
      "16  3.6e-04  9.7e-07  3.6e-04  6.76e-01   1.811819970e-03   1.360078375e-03   1.2e-07  51.60 \n"
     ]
    },
    {
     "name": "stdout",
     "output_type": "stream",
     "text": [
      "17  3.3e-04  8.8e-07  3.2e-04  6.93e-01   1.764847828e-03   1.337951749e-03   1.1e-07  54.22 \n",
      "18  8.0e-05  2.2e-07  7.9e-05  7.10e-01   1.187453503e-03   1.067813816e-03   2.6e-08  56.93 \n"
     ]
    },
    {
     "name": "stdout",
     "output_type": "stream",
     "text": [
      "19  7.5e-06  2.0e-08  7.3e-06  9.43e-01   9.763813517e-04   9.661707953e-04   2.4e-09  59.60 \n",
      "20  1.9e-06  5.1e-09  1.9e-06  9.59e-01   9.576425241e-04   9.548389146e-04   6.1e-10  62.22 \n"
     ]
    },
    {
     "name": "stdout",
     "output_type": "stream",
     "text": [
      "21  2.2e-08  5.8e-11  2.1e-08  9.41e-01   9.495103234e-04   9.494786322e-04   7.0e-12  64.84 \n",
      "22  2.3e-12  4.2e-14  2.2e-12  1.00e+00   9.494441064e-04   9.494441031e-04   7.3e-16  67.43 \n"
     ]
    },
    {
     "name": "stdout",
     "output_type": "stream",
     "text": [
      "Basis identification started.\n",
      "Primal basis identification phase started.\n"
     ]
    },
    {
     "name": "stdout",
     "output_type": "stream",
     "text": [
      "Primal basis identification phase terminated. Time: 0.02\n",
      "Dual basis identification phase started.\n",
      "Dual basis identification phase terminated. Time: 0.00\n",
      "Basis identification terminated. Time: 0.62\n"
     ]
    },
    {
     "name": "stdout",
     "output_type": "stream",
     "text": [
      "Optimizer terminated. Time: 69.84   \n",
      "\n"
     ]
    }
   ],
   "source": [
    "simplex_serial()"
   ]
  },
  {
   "cell_type": "code",
   "execution_count": null,
   "metadata": {},
   "outputs": [],
   "source": []
  }
 ],
 "metadata": {
  "kernelspec": {
   "display_name": "Julia 1.8.3",
   "language": "julia",
   "name": "julia-1.8"
  },
  "language_info": {
   "file_extension": ".jl",
   "mimetype": "application/julia",
   "name": "julia",
   "version": "1.6.7"
  },
  "orig_nbformat": 4,
  "vscode": {
   "interpreter": {
    "hash": "955fea851f4fadc137d4bb69b2e962b881fb503457e6a299bba81b02a1b1fe25"
   }
  }
 },
 "nbformat": 4,
 "nbformat_minor": 2
}
